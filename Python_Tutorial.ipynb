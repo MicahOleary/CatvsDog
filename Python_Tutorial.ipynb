{
  "nbformat": 4,
  "nbformat_minor": 0,
  "metadata": {
    "colab": {
      "name": "Python Tutorial.ipynb",
      "provenance": [],
      "authorship_tag": "ABX9TyNhwUhINUOUH3dVxnBXLcRc",
      "include_colab_link": true
    },
    "kernelspec": {
      "name": "python3",
      "display_name": "Python 3"
    }
  },
  "cells": [
    {
      "cell_type": "markdown",
      "metadata": {
        "id": "view-in-github",
        "colab_type": "text"
      },
      "source": [
        "<a href=\"https://colab.research.google.com/github/MicahOleary/CatvsDog/blob/main/Python_Tutorial.ipynb\" target=\"_parent\"><img src=\"https://colab.research.google.com/assets/colab-badge.svg\" alt=\"Open In Colab\"/></a>"
      ]
    },
    {
      "cell_type": "code",
      "metadata": {
        "id": "edbQVW0XZVC1"
      },
      "source": [
        "!python --version"
      ],
      "execution_count": null,
      "outputs": []
    },
    {
      "cell_type": "code",
      "metadata": {
        "id": "lUfWEsQUZ1Hh"
      },
      "source": [
        "x = 2\n",
        "print(x+1-5)"
      ],
      "execution_count": null,
      "outputs": []
    },
    {
      "cell_type": "code",
      "metadata": {
        "id": "_71L_CrKawkg"
      },
      "source": [
        "coolbeans = 'coolbeans'\n",
        "s = coolbeans\n",
        "print(s.capitalize())"
      ],
      "execution_count": null,
      "outputs": []
    },
    {
      "cell_type": "code",
      "metadata": {
        "id": "ClXzk6P-bR_N"
      },
      "source": [
        "nums = list(range(17))\n",
        "print(nums)\n",
        "print(nums[2:11])"
      ],
      "execution_count": null,
      "outputs": []
    },
    {
      "cell_type": "code",
      "metadata": {
        "id": "JEz9vdWubwc3"
      },
      "source": [
        "cat = 'cat'\n",
        "dog = 'dog'\n",
        "c = cat\n",
        "d = dog\n",
        "print(c.capitalize())\n",
        "print(d)"
      ],
      "execution_count": null,
      "outputs": []
    },
    {
      "cell_type": "code",
      "metadata": {
        "colab": {
          "base_uri": "https://localhost:8080/"
        },
        "id": "m2kB-eo9cmU-",
        "outputId": "17f34a59-0ca5-4afc-c556-e32a2dd3dfa8"
      },
      "source": [
        "animals = {'cat', 'dog'}\n",
        "animals.remove('cat')\n",
        "print(animals)\n",
        "print(len(animals))\n",
        "animals.add('cat')\n",
        "print(animals)\n",
        "print(len(animals))\n",
        "animals.add('fish')\n",
        "print(animals)\n",
        "print(len(animals))"
      ],
      "execution_count": 1,
      "outputs": [
        {
          "output_type": "stream",
          "text": [
            "{'dog'}\n",
            "1\n",
            "{'dog', 'cat'}\n",
            "2\n",
            "{'dog', 'cat', 'fish'}\n",
            "3\n"
          ],
          "name": "stdout"
        }
      ]
    },
    {
      "cell_type": "code",
      "metadata": {
        "id": "WL_amcFsd-3N"
      },
      "source": [
        "def sign(x):\n",
        "  if x > 3:\n",
        "    "
      ],
      "execution_count": null,
      "outputs": []
    }
  ]
}